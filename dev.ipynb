{
 "cells": [
  {
   "cell_type": "code",
   "execution_count": 165,
   "metadata": {
    "collapsed": false
   },
   "outputs": [],
   "source": [
    "from enum import Enum\n",
    "\n",
    "class Status(Enum):\n",
    "    INPROGRESS = -1\n",
    "    TIED = 0\n",
    "    PLAYER1 = 1\n",
    "    PLAYER2 = 2\n",
    "\n",
    "class SingleGame:                \n",
    "    \n",
    "    def __init__(self,h=6,w=7):\n",
    "        self.height = h\n",
    "        self.width  = w\n",
    "        \n",
    "        #initialize board\n",
    "        self.__board__       = [[0 for i in range(0,self.width)] for j in range(0,self.height)]\n",
    "        self.__movespercol__ = [h]*w\n",
    "        self.movesleft = h*w\n",
    "        self.player1 = True\n",
    "        self.status = Status.INPROGRESS\n",
    "\n",
    "    #the draw function should be very flexible so the developer must provide it\n",
    "    #draw applies the supplied draw function on the __board__ data \n",
    "    def draw(self,drawfunc):\n",
    "        drawfunc(self.__board__)\n",
    "    \n",
    "    def make_move(self,col):\n",
    "        \n",
    "        #check that board is not in a terminal state\n",
    "        if self.status.value > -1:\n",
    "            raise Exception('Game Over','Trying to play a finished game')\n",
    "        \n",
    "        \n",
    "        i,j = 0,0\n",
    "        \n",
    "        if self.__movespercol__[col] > 0: #check that there is some space available in selected column\n",
    "            #make move for selected column\n",
    "            if self.player1:#get current player\n",
    "                currentplayer = 1    \n",
    "            else:\n",
    "                currentplayer = 2\n",
    "            \n",
    "            i,j = self.__movespercol__[col] - 1, col \n",
    "            self.__board__[i][j] = currentplayer\n",
    "            \n",
    "            #decrement available moves for column number col\n",
    "            self.__movespercol__[col] -= 1\n",
    "            self.movesleft -=1\n",
    "            \n",
    "            #check whether player wins with this move\n",
    "            self.__update_status(i,j)\n",
    "            \n",
    "            #swap player\n",
    "            self.player1 = not self.player1\n",
    "            \n",
    "        #otherwise return illegal move exception\n",
    "        else:\n",
    "            raise Exception('Illegal Move',col)\n",
    "    \n",
    "    \n",
    "    def __is_winning_line(self,line,player):\n",
    "        count = 0\n",
    "        for i in line:\n",
    "            \n",
    "            if i == player:\n",
    "                count += 1\n",
    "            else:\n",
    "                count = 0 \n",
    "            \n",
    "            if count == 4:\n",
    "                return True\n",
    "            \n",
    "        return False\n",
    "    \n",
    "    def __update_status(self,i,j):\n",
    "        #check if the current player won as a result of the current move\n",
    "        \n",
    "        #select current player\n",
    "        if self.player1:\n",
    "            currentplayer = 1\n",
    "        else:\n",
    "            currentplayer = 2\n",
    "        \n",
    "        \n",
    "        top    = i - 3\n",
    "        bottom = i + 3\n",
    "        \n",
    "        #clamp top bottom\n",
    "        if top < 0:#because of the range\n",
    "            top = 0\n",
    "        if bottom > self.height -1:\n",
    "            bottom = self.height - 1\n",
    "        \n",
    "        \n",
    "        left  = j - 3\n",
    "        right = j + 3\n",
    "        \n",
    "        #clamp\n",
    "        if left < 0:\n",
    "            left = 0\n",
    "        \n",
    "        if right > self.width -1:\n",
    "            right = self.width - 1\n",
    "        \n",
    "        #----------------check column--------------------\n",
    "        \n",
    "        #get elements of column j\n",
    "        column = (self.__board__[k][j] for k in range(top,bottom + 1))\n",
    "        \n",
    "        if self.__is_winning_line(column,currentplayer):\n",
    "            print('Player',currentplayer,'wins!!')\n",
    "            self.status = Status(currentplayer)\n",
    "            return\n",
    "        \n",
    "        #-----------------check row---------------------\n",
    "        \n",
    "        #count current player's chips\n",
    "        row = (self.__board__[i][k] for k in range(left,right + 1))\n",
    "        \n",
    "        if self.__is_winning_line(row,currentplayer):\n",
    "            print('Player',currentplayer,'wins!!')\n",
    "            self.status = Status(currentplayer)\n",
    "            return\n",
    "        \n",
    "        #----------------check top-down diagonal-------------------\n",
    "        d1 = min(abs(top - i) ,abs(left - j))\n",
    "        d2 = min(abs(bottom - i) ,abs(right - j))\n",
    "        \n",
    "        start_i = i - d1\n",
    "        end_i   = i + d2\n",
    "        \n",
    "        start_j = j - d1\n",
    "        end_j   = j + d2\n",
    "        \n",
    "        diagonal1 =  (self.__board__[k][l] for k,l in zip(range(start_i,end_i + 1),range(start_j,end_j + 1)))\n",
    "        \n",
    "        if self.__is_winning_line(diagonal1,currentplayer):\n",
    "            print('Player',currentplayer,'wins!!')\n",
    "            self.status = Status(currentplayer)\n",
    "            return\n",
    "        \n",
    "        \n",
    "        #----------------check bottom-up diagonal------------------\n",
    "        d1 = min(abs(bottom - i) ,abs(left - j))\n",
    "        d2 = min(abs(top - i) ,abs(right - j))\n",
    "        \n",
    "        start_i = i + d1\n",
    "        end_i   = i - d2\n",
    "        \n",
    "        start_j = j - d1\n",
    "        end_j   = j + d2\n",
    "        \n",
    "        diagonal2 =  (self.__board__[-k][l] for k,l in zip(range(-start_i,-(end_i - 1)),range(start_j,end_j + 1)))\n",
    "        \n",
    "        if self.__is_winning_line(diagonal2,currentplayer):\n",
    "            print('Player',currentplayer,'wins!!')\n",
    "            self.status = Status(currentplayer)\n",
    "            return\n",
    "        \n",
    "        #-----------------check whether there's a TIE---------------------------------\n",
    "        if self.movesleft == 0 and self.status == Status.INPROGRESS:\n",
    "            self.status = Status.TIED\n",
    "            return\n",
    "\n",
    "\n",
    "def drawboard(board):\n",
    "    symbols = ['-','X','O']\n",
    "    \n",
    "    #print header\n",
    "    for i in range(0,len(board[0])):\n",
    "        print(i,end=' ')\n",
    "    \n",
    "    print('\\n')\n",
    "    \n",
    "    #print board\n",
    "    for j in board:\n",
    "        for i in j:\n",
    "            print(symbols[i],end=' ')\n",
    "        \n",
    "        print('\\n')\n",
    "        \n"
   ]
  },
  {
   "cell_type": "code",
   "execution_count": 166,
   "metadata": {
    "collapsed": false
   },
   "outputs": [],
   "source": [
    "game1 = SingleGame(10,10)"
   ]
  },
  {
   "cell_type": "code",
   "execution_count": 167,
   "metadata": {
    "collapsed": false
   },
   "outputs": [
    {
     "name": "stdout",
     "output_type": "stream",
     "text": [
      "0 1 2 3 4 5 6 7 8 9 \n",
      "\n",
      "- - - - - - - - - - \n",
      "\n",
      "- - - - - - - - - - \n",
      "\n",
      "- - - - - - - - - - \n",
      "\n",
      "- - - - - - - - - - \n",
      "\n",
      "- - - - - - - - - - \n",
      "\n",
      "- - - - - - - - - - \n",
      "\n",
      "- - - - - - - - - - \n",
      "\n",
      "- - - - - - - - - - \n",
      "\n",
      "- - - - - - - - - - \n",
      "\n",
      "- - - - - - - - - - \n",
      "\n"
     ]
    }
   ],
   "source": [
    "game1.draw(drawboard)"
   ]
  },
  {
   "cell_type": "code",
   "execution_count": 181,
   "metadata": {
    "collapsed": false
   },
   "outputs": [
    {
     "ename": "Exception",
     "evalue": "('Game Over', 'Trying to play a finished game')",
     "output_type": "error",
     "traceback": [
      "\u001b[0;31m---------------------------------------------------------------------------\u001b[0m",
      "\u001b[0;31mException\u001b[0m                                 Traceback (most recent call last)",
      "\u001b[0;32m<ipython-input-181-a1aa8ad265f6>\u001b[0m in \u001b[0;36m<module>\u001b[0;34m()\u001b[0m\n\u001b[0;32m----> 1\u001b[0;31m \u001b[0mgame1\u001b[0m\u001b[1;33m.\u001b[0m\u001b[0mmake_move\u001b[0m\u001b[1;33m(\u001b[0m\u001b[1;36m3\u001b[0m\u001b[1;33m)\u001b[0m\u001b[1;33m\u001b[0m\u001b[0m\n\u001b[0m",
      "\u001b[0;32m<ipython-input-165-00b797b0c97b>\u001b[0m in \u001b[0;36mmake_move\u001b[0;34m(self, col)\u001b[0m\n\u001b[1;32m     29\u001b[0m         \u001b[1;31m#check that board is not in a terminal state\u001b[0m\u001b[1;33m\u001b[0m\u001b[1;33m\u001b[0m\u001b[0m\n\u001b[1;32m     30\u001b[0m         \u001b[1;32mif\u001b[0m \u001b[0mself\u001b[0m\u001b[1;33m.\u001b[0m\u001b[0mstatus\u001b[0m\u001b[1;33m.\u001b[0m\u001b[0mvalue\u001b[0m \u001b[1;33m>\u001b[0m \u001b[1;33m-\u001b[0m\u001b[1;36m1\u001b[0m\u001b[1;33m:\u001b[0m\u001b[1;33m\u001b[0m\u001b[0m\n\u001b[0;32m---> 31\u001b[0;31m             \u001b[1;32mraise\u001b[0m \u001b[0mException\u001b[0m\u001b[1;33m(\u001b[0m\u001b[1;34m'Game Over'\u001b[0m\u001b[1;33m,\u001b[0m\u001b[1;34m'Trying to play a finished game'\u001b[0m\u001b[1;33m)\u001b[0m\u001b[1;33m\u001b[0m\u001b[0m\n\u001b[0m\u001b[1;32m     32\u001b[0m \u001b[1;33m\u001b[0m\u001b[0m\n\u001b[1;32m     33\u001b[0m \u001b[1;33m\u001b[0m\u001b[0m\n",
      "\u001b[0;31mException\u001b[0m: ('Game Over', 'Trying to play a finished game')"
     ]
    }
   ],
   "source": [
    "game1.make_move(3)"
   ]
  },
  {
   "cell_type": "code",
   "execution_count": 180,
   "metadata": {
    "collapsed": false,
    "scrolled": true
   },
   "outputs": [
    {
     "name": "stdout",
     "output_type": "stream",
     "text": [
      "0 1 2 3 4 5 6 7 8 9 \n",
      "\n",
      "- - - - - - - - - - \n",
      "\n",
      "- - - - - - - - - - \n",
      "\n",
      "- - - - - - - - - - \n",
      "\n",
      "- - - - - - - - - - \n",
      "\n",
      "- - - - - - - - - - \n",
      "\n",
      "- - - O - - - - - - \n",
      "\n",
      "- - - O X - - - - - \n",
      "\n",
      "- - - O X - - - - - \n",
      "\n",
      "- - - O X - - - - - \n",
      "\n",
      "- - X X O - - - - - \n",
      "\n"
     ]
    }
   ],
   "source": [
    "game1.draw(drawboard)"
   ]
  },
  {
   "cell_type": "code",
   "execution_count": 72,
   "metadata": {
    "collapsed": false
   },
   "outputs": [
    {
     "data": {
      "text/plain": [
       "2"
      ]
     },
     "execution_count": 72,
     "metadata": {},
     "output_type": "execute_result"
    }
   ],
   "source": [
    "game1.status"
   ]
  },
  {
   "cell_type": "code",
   "execution_count": 394,
   "metadata": {
    "collapsed": false
   },
   "outputs": [],
   "source": [
    "game1.__board__[4][5] = 2"
   ]
  },
  {
   "cell_type": "code",
   "execution_count": 438,
   "metadata": {
    "collapsed": false
   },
   "outputs": [
    {
     "data": {
      "text/plain": [
       "[-4, -3, -2, -1, 0, 1, 2, 3]"
      ]
     },
     "execution_count": 438,
     "metadata": {},
     "output_type": "execute_result"
    }
   ],
   "source": []
  },
  {
   "cell_type": "code",
   "execution_count": 462,
   "metadata": {
    "collapsed": false
   },
   "outputs": [
    {
     "name": "stdout",
     "output_type": "stream",
     "text": [
      "10\n",
      "9\n",
      "8\n",
      "7\n",
      "6\n",
      "5\n"
     ]
    }
   ],
   "source": [
    "for i in range(-10,-4):\n",
    "    print(-i)"
   ]
  },
  {
   "cell_type": "code",
   "execution_count": 163,
   "metadata": {
    "collapsed": false
   },
   "outputs": [],
   "source": [
    "a = Status(0)"
   ]
  },
  {
   "cell_type": "code",
   "execution_count": 164,
   "metadata": {
    "collapsed": false
   },
   "outputs": [
    {
     "data": {
      "text/plain": [
       "<Status.DRAW: 0>"
      ]
     },
     "execution_count": 164,
     "metadata": {},
     "output_type": "execute_result"
    }
   ],
   "source": [
    "a"
   ]
  },
  {
   "cell_type": "code",
   "execution_count": null,
   "metadata": {
    "collapsed": true
   },
   "outputs": [],
   "source": []
  }
 ],
 "metadata": {
  "anaconda-cloud": {},
  "kernelspec": {
   "display_name": "Python [conda root]",
   "language": "python",
   "name": "conda-root-py"
  },
  "language_info": {
   "codemirror_mode": {
    "name": "ipython",
    "version": 3
   },
   "file_extension": ".py",
   "mimetype": "text/x-python",
   "name": "python",
   "nbconvert_exporter": "python",
   "pygments_lexer": "ipython3",
   "version": "3.5.2"
  }
 },
 "nbformat": 4,
 "nbformat_minor": 1
}
