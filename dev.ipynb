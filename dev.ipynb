{
 "cells": [
  {
   "cell_type": "code",
   "execution_count": 477,
   "metadata": {
    "collapsed": false
   },
   "outputs": [],
   "source": [
    "class SingleGame:                \n",
    "    \n",
    "    def __init__(self,h=6,w=7):\n",
    "        self.height = h\n",
    "        self.width  = w\n",
    "        \n",
    "        #initialize board\n",
    "        self.__board__       = [[0 for i in range(0,self.width)] for j in range(0,self.height)]\n",
    "        self.__movespercol__ = [h]*w\n",
    "        self.movesleft = h*w\n",
    "        self.player1 = True\n",
    "        self.status = -1\n",
    "\n",
    "    def draw(self,drawfunc):\n",
    "        drawfunc(self.__board__)       \n",
    "    \n",
    "    def make_move(self,col):\n",
    "        \n",
    "        #check that board is not in a terminal state\n",
    "        #if self.status > -1:\n",
    "        #    raise Exception('Game Over','Trying to play a finished game')\n",
    "        \n",
    "        \n",
    "        i,j = 0,0\n",
    "        \n",
    "        if self.__movespercol__[col] > 0: #check that there is some space available in selected column\n",
    "            #make move for selected column\n",
    "            if self.player1:#get current player\n",
    "                currentplayer = 1    \n",
    "            else:\n",
    "                currentplayer = 2\n",
    "            \n",
    "            i,j = self.__movespercol__[col] - 1, col \n",
    "            self.__board__[i][j] = currentplayer\n",
    "            \n",
    "            #decrement available moves for column number col\n",
    "            self.__movespercol__[col] -= 1\n",
    "            self.movesleft -=1\n",
    "            \n",
    "            #check whether player wins with this move\n",
    "            self.__update_status(i,j)\n",
    "            \n",
    "            #swap player\n",
    "            self.player1 = not self.player1\n",
    "            \n",
    "        #otherwise return illegal move exception\n",
    "        else:\n",
    "            raise Exception('Illegal Move',col)\n",
    "    \n",
    "    \n",
    "    def __is_winning_line(self,line,player):\n",
    "        count = 0\n",
    "        for i in line:\n",
    "            \n",
    "            if i == player:\n",
    "                count += 1\n",
    "            else:\n",
    "                count = 0 \n",
    "            \n",
    "            if count == 4:\n",
    "                return True\n",
    "            \n",
    "        return False\n",
    "    \n",
    "    #set status to -1 for game in progress, 1 for player one wins 2 for player 2 wins and 0 for draw\n",
    "    def __update_status(self,i,j):\n",
    "        #check if the current player won as a result of the current move\n",
    "        \n",
    "        #select current player\n",
    "        if self.player1:\n",
    "            currentplayer = 1\n",
    "        else:\n",
    "            currentplayer = 2\n",
    "        \n",
    "        #----------------check column--------------------\n",
    "        top    = i - 3\n",
    "        bottom = i + 4\n",
    "        \n",
    "        #clamp top bottom\n",
    "        if top < 0:\n",
    "            top = 0\n",
    "        if bottom > self.height:\n",
    "            bottom = self.height\n",
    "        \n",
    "        #get elements of column j\n",
    "        column = (self.__board__[k][j] for k in range(top,bottom))\n",
    "        \n",
    "        if self.__is_winning_line(column,currentplayer):\n",
    "            print('Player',currentplayer,'wins!!')\n",
    "            self.status = currentplayer\n",
    "            return\n",
    "        \n",
    "        #-----------------check row---------------------\n",
    "        left  = j - 3\n",
    "        right = j + 4\n",
    "        \n",
    "        #clamp\n",
    "        if left < 0:\n",
    "            left = 0\n",
    "        \n",
    "        if right > self.width:\n",
    "            right = self.width\n",
    "        \n",
    "        #count current player's chips\n",
    "        row = (self.__board__[i][k] for k in range(left,right))\n",
    "        \n",
    "        if self.__is_winning_line(row,currentplayer):\n",
    "            print('Player',currentplayer,'wins!!')\n",
    "            self.status = currentplayer\n",
    "            return\n",
    "        \n",
    "        #----------------check top-down diagonal-------------------\n",
    "        '''\n",
    "        d1 = min(abs(top - i) ,abs(left - j))\n",
    "        d2 = min(abs(bottom - i) ,abs(right - j))\n",
    "        \n",
    "        start_i = i - d1\n",
    "        end_i   = i + d2\n",
    "        \n",
    "        start_j = j - d1\n",
    "        end_j   = j + d2\n",
    "        \n",
    "        diagonal1 =  (self.__board__[k][l] for k,l in zip(range(start_i,end_i),range(start_j,end_j)))\n",
    "        \n",
    "        if self.__is_winning_line(diagonal1,currentplayer):\n",
    "            print('Player',currentplayer,'wins!!')\n",
    "            self.status = currentplayer\n",
    "            return\n",
    "        '''\n",
    "        \n",
    "        #----------------check bottom-up diagonal------------------\n",
    "        d1 = min(abs(bottom - i) ,abs(left - j))\n",
    "        d2 = min(abs(top - i) ,abs(right - j))\n",
    "        \n",
    "        start_i = i + d1 - 1\n",
    "        end_i   = i - d2 - 1\n",
    "        \n",
    "        start_j = j - d1\n",
    "        end_j   = j + d2\n",
    "        \n",
    "        print(list(zip(range(-start_i,-end_i),range(start_j,end_j))))\n",
    "        #diagonal2 =  (self.__board__[-k][l] for k,l in zip(range(-start_i,-end_i),range(start_j,end_j)))\n",
    "        \n",
    "        #if self.__is_winning_line(diagonal2,currentplayer):\n",
    "        #    print('Player',currentplayer,'wins!!')\n",
    "        #    self.status = currentplayer\n",
    "        #    return\n",
    "        \n",
    "        #-----------------check tie---------------------------------\n",
    "        if self.movesleft == 0 and self.status == -1:\n",
    "            self.status = 0\n",
    "            return\n",
    "\n",
    "\n",
    "def drawboard(board):\n",
    "    symbols = ['-','X','O']\n",
    "    \n",
    "    #print header\n",
    "    for i in range(0,len(board[0])):\n",
    "        print(i,end=' ')\n",
    "    \n",
    "    print('\\n')\n",
    "    \n",
    "    #print board\n",
    "    for j in board:\n",
    "        for i in j:\n",
    "            print(symbols[i],end=' ')\n",
    "        \n",
    "        print('\\n')\n",
    "        \n"
   ]
  },
  {
   "cell_type": "code",
   "execution_count": 478,
   "metadata": {
    "collapsed": false
   },
   "outputs": [],
   "source": [
    "game1 = SingleGame()"
   ]
  },
  {
   "cell_type": "code",
   "execution_count": 479,
   "metadata": {
    "collapsed": false
   },
   "outputs": [
    {
     "name": "stdout",
     "output_type": "stream",
     "text": [
      "0 1 2 3 4 5 6 \n",
      "\n",
      "- - - - - - - \n",
      "\n",
      "- - - - - - - \n",
      "\n",
      "- - - - - - - \n",
      "\n",
      "- - - - - - - \n",
      "\n",
      "- - - - - - - \n",
      "\n",
      "- - - - - - - \n",
      "\n"
     ]
    }
   ],
   "source": [
    "game1.draw(drawboard)"
   ]
  },
  {
   "cell_type": "code",
   "execution_count": 480,
   "metadata": {
    "collapsed": false
   },
   "outputs": [
    {
     "name": "stdout",
     "output_type": "stream",
     "text": [
      "[(-4, 0), (-3, 1), (-2, 2)]\n",
      "[(-5, 0), (-4, 1), (-3, 2), (-2, 3)]\n",
      "[(-5, 1), (-4, 2), (-3, 3), (-2, 4)]\n",
      "[(-5, 2), (-4, 3), (-3, 4), (-2, 5)]\n",
      "[(-5, 3), (-4, 4), (-3, 5), (-2, 6)]\n",
      "[(-5, 4), (-4, 5), (-3, 6)]\n",
      "[(-5, 5), (-4, 6)]\n"
     ]
    }
   ],
   "source": [
    "for k in range(0,7):\n",
    "    game1.make_move(k)"
   ]
  },
  {
   "cell_type": "code",
   "execution_count": 481,
   "metadata": {
    "collapsed": false
   },
   "outputs": [
    {
     "name": "stdout",
     "output_type": "stream",
     "text": [
      "0 1 2 3 4 5 6 \n",
      "\n",
      "- - - - - - - \n",
      "\n",
      "- - - - - - - \n",
      "\n",
      "- - - - - - - \n",
      "\n",
      "- - - - - - - \n",
      "\n",
      "- - - - - - - \n",
      "\n",
      "X O X O X O X \n",
      "\n"
     ]
    }
   ],
   "source": [
    "game1.draw(drawboard)"
   ]
  },
  {
   "cell_type": "code",
   "execution_count": 293,
   "metadata": {
    "collapsed": false
   },
   "outputs": [
    {
     "data": {
      "text/plain": [
       "1"
      ]
     },
     "execution_count": 293,
     "metadata": {},
     "output_type": "execute_result"
    }
   ],
   "source": [
    "game1.status"
   ]
  },
  {
   "cell_type": "code",
   "execution_count": 394,
   "metadata": {
    "collapsed": false
   },
   "outputs": [],
   "source": [
    "game1.__board__[4][5] = 2"
   ]
  },
  {
   "cell_type": "code",
   "execution_count": 438,
   "metadata": {
    "collapsed": false
   },
   "outputs": [
    {
     "data": {
      "text/plain": [
       "[-4, -3, -2, -1, 0, 1, 2, 3]"
      ]
     },
     "execution_count": 438,
     "metadata": {},
     "output_type": "execute_result"
    }
   ],
   "source": []
  },
  {
   "cell_type": "code",
   "execution_count": 462,
   "metadata": {
    "collapsed": false
   },
   "outputs": [
    {
     "name": "stdout",
     "output_type": "stream",
     "text": [
      "10\n",
      "9\n",
      "8\n",
      "7\n",
      "6\n",
      "5\n"
     ]
    }
   ],
   "source": [
    "for i in range(-10,-4):\n",
    "    print(-i)"
   ]
  },
  {
   "cell_type": "code",
   "execution_count": null,
   "metadata": {
    "collapsed": true
   },
   "outputs": [],
   "source": []
  }
 ],
 "metadata": {
  "anaconda-cloud": {},
  "kernelspec": {
   "display_name": "Python [conda root]",
   "language": "python",
   "name": "conda-root-py"
  },
  "language_info": {
   "codemirror_mode": {
    "name": "ipython",
    "version": 3
   },
   "file_extension": ".py",
   "mimetype": "text/x-python",
   "name": "python",
   "nbconvert_exporter": "python",
   "pygments_lexer": "ipython3",
   "version": "3.5.2"
  }
 },
 "nbformat": 4,
 "nbformat_minor": 1
}
